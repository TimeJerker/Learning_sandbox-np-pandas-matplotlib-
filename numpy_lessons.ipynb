{
 "cells": [
  {
   "cell_type": "code",
   "execution_count": 4,
   "id": "aadc1978-b8fb-460d-8587-786cf9dbbd35",
   "metadata": {},
   "outputs": [],
   "source": [
    "import numpy as np\n",
    "import pandas\n"
   ]
  },
  {
   "cell_type": "code",
   "execution_count": 7,
   "id": "5ce5f3b3-f5fc-46c3-b227-f1f48eca7d1a",
   "metadata": {},
   "outputs": [
    {
     "name": "stdout",
     "output_type": "stream",
     "text": [
      "(5,)\n",
      "float64\n"
     ]
    }
   ],
   "source": [
    "data = [1,2,3,4,5]\n",
    "np_array = np.array(data)\n",
    "print(np_array.shape)\n",
    "\n",
    "np_array2 = np_array.astype(np.float64)\n",
    "print(np_array2.dtype)"
   ]
  },
  {
   "cell_type": "code",
   "execution_count": 9,
   "id": "0a201f2d-a261-475d-a9d6-a4ebabd82e15",
   "metadata": {},
   "outputs": [
    {
     "name": "stdout",
     "output_type": "stream",
     "text": [
      "[0.         0.11111111 0.22222222 0.33333333 0.44444444 0.55555556\n",
      " 0.66666667 0.77777778 0.88888889 1.        ]\n"
     ]
    }
   ],
   "source": [
    "np_array3 = np.linspace(0, 1, 10)\n",
    "print(np_array3)"
   ]
  },
  {
   "cell_type": "code",
   "execution_count": 11,
   "id": "8b3d8803-2e07-4ff5-82c8-34834c74686b",
   "metadata": {},
   "outputs": [
    {
     "name": "stdout",
     "output_type": "stream",
     "text": [
      "3.0\n",
      "True\n",
      "False\n",
      "False\n",
      "False\n",
      "False\n"
     ]
    }
   ],
   "source": [
    "np_array5 = np.array([1,2,3,4,5])\n",
    "print(np_array5.mean())\n",
    "\n",
    "for num in np_array5:\n",
    "    print(num < 2)"
   ]
  },
  {
   "cell_type": "code",
   "execution_count": null,
   "id": "415171b3-4c5f-4472-9b1b-43f154793436",
   "metadata": {},
   "outputs": [],
   "source": []
  }
 ],
 "metadata": {
  "kernelspec": {
   "display_name": "myenv",
   "language": "python",
   "name": "myenv"
  },
  "language_info": {
   "codemirror_mode": {
    "name": "ipython",
    "version": 3
   },
   "file_extension": ".py",
   "mimetype": "text/x-python",
   "name": "python",
   "nbconvert_exporter": "python",
   "pygments_lexer": "ipython3",
   "version": "3.13.3"
  }
 },
 "nbformat": 4,
 "nbformat_minor": 5
}
