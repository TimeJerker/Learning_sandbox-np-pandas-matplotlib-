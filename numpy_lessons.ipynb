{
 "cells": [
  {
   "cell_type": "code",
   "execution_count": 4,
   "id": "aadc1978-b8fb-460d-8587-786cf9dbbd35",
   "metadata": {},
   "outputs": [],
   "source": [
    "import numpy as np\n"
   ]
  },
  {
   "cell_type": "code",
   "execution_count": 7,
   "id": "5ce5f3b3-f5fc-46c3-b227-f1f48eca7d1a",
   "metadata": {},
   "outputs": [
    {
     "name": "stdout",
     "output_type": "stream",
     "text": [
      "(5,)\n",
      "float64\n"
     ]
    }
   ],
   "source": [
    "data = [1,2,3,4,5]\n",
    "np_array = np.array(data)\n",
    "print(np_array.shape)\n",
    "\n",
    "np_array2 = np_array.astype(np.float64)\n",
    "print(np_array2.dtype)"
   ]
  },
  {
   "cell_type": "code",
   "execution_count": 9,
   "id": "0a201f2d-a261-475d-a9d6-a4ebabd82e15",
   "metadata": {},
   "outputs": [
    {
     "name": "stdout",
     "output_type": "stream",
     "text": [
      "[0.         0.11111111 0.22222222 0.33333333 0.44444444 0.55555556\n",
      " 0.66666667 0.77777778 0.88888889 1.        ]\n"
     ]
    }
   ],
   "source": [
    "np_array3 = np.linspace(0, 1, 10)\n",
    "print(np_array3)"
   ]
  },
  {
   "cell_type": "code",
   "execution_count": 16,
   "id": "8b3d8803-2e07-4ff5-82c8-34834c74686b",
   "metadata": {},
   "outputs": [
    {
     "name": "stdout",
     "output_type": "stream",
     "text": [
      "3.0\n",
      "[1]\n"
     ]
    }
   ],
   "source": [
    "np_array5 = np.array([1,2,3,4,5])\n",
    "print(np_array5.mean())\n",
    "\n",
    "# for num in np_array5:\n",
    "#     print(num < 2)\n",
    "print(np_array5[np_array5 < 2])"
   ]
  },
  {
   "cell_type": "code",
   "execution_count": 13,
   "id": "415171b3-4c5f-4472-9b1b-43f154793436",
   "metadata": {},
   "outputs": [
    {
     "name": "stdout",
     "output_type": "stream",
     "text": [
      "[1 2 3 4 5 6]\n"
     ]
    }
   ],
   "source": [
    "np_array_first = np.array([1,2,3])\n",
    "np_array_second = np.array([4,5,6])\n",
    "np_array_second = np.concatenate((np_array_first, np_array_second))\n",
    "print(np_array_second)"
   ]
  },
  {
   "cell_type": "code",
   "execution_count": 14,
   "id": "421752a4-04eb-4fca-903a-b1f847d3ef1f",
   "metadata": {},
   "outputs": [
    {
     "data": {
      "text/plain": [
       "[array([1, 2]), array([3, 4]), array([5, 6])]"
      ]
     },
     "execution_count": 14,
     "metadata": {},
     "output_type": "execute_result"
    }
   ],
   "source": [
    "np.array_split(np_array_second,3)"
   ]
  },
  {
   "cell_type": "code",
   "execution_count": 30,
   "id": "40535cf7-9159-41b7-8731-a200946476d4",
   "metadata": {},
   "outputs": [
    {
     "name": "stdout",
     "output_type": "stream",
     "text": [
      "(2, 3)\n",
      "2\n",
      "6\n"
     ]
    }
   ],
   "source": [
    "matrix = np.array([(1,2,3),(4,5,6)], dtype=np.float64)\n",
    "print(matrix.shape)\n",
    "print(matrix.ndim)\n",
    "print(matrix.size)"
   ]
  },
  {
   "cell_type": "code",
   "execution_count": 31,
   "id": "ac003eb1-87b8-48c5-8d22-ae57d5e35fe5",
   "metadata": {},
   "outputs": [
    {
     "data": {
      "text/plain": [
       "array([[1., 2., 3., 4., 5., 6.]])"
      ]
     },
     "execution_count": 31,
     "metadata": {},
     "output_type": "execute_result"
    }
   ],
   "source": [
    "matrix.reshape(1,6)\n"
   ]
  },
  {
   "cell_type": "code",
   "execution_count": 28,
   "id": "208225b7-bf3e-44d5-ba07-4f77cc93b4c0",
   "metadata": {},
   "outputs": [
    {
     "name": "stdout",
     "output_type": "stream",
     "text": [
      "[[1. 2.]\n",
      " [3. 4.]]\n"
     ]
    }
   ],
   "source": [
    "matrix.resize(2,2)\n",
    "print(matrix)"
   ]
  },
  {
   "cell_type": "code",
   "execution_count": 33,
   "id": "8d8f8d4d-1aec-4c4f-9d64-de1f8db9caf4",
   "metadata": {},
   "outputs": [
    {
     "name": "stdout",
     "output_type": "stream",
     "text": [
      "[[ 0  1  2  3  4  5  6  7]\n",
      " [ 8  9 10 11 12 13 14 15]]\n"
     ]
    }
   ],
   "source": [
    "matrix2 = np.arange(16).reshape(2,8)\n",
    "print(matrix2)"
   ]
  },
  {
   "cell_type": "code",
   "execution_count": null,
   "id": "0de4658b-f12a-48bd-9711-647dd8f638b3",
   "metadata": {},
   "outputs": [],
   "source": [
    "#массив нулей\n",
    "np.zeros((2,3))\n",
    "#массив единиц\n",
    "np.ones((2,3))\n",
    "#матрица с единицами на диагонале\n",
    "np.eye(5)\n",
    "#матрица заданного размера одинаковых значений\n",
    "np.full((3,3),9)"
   ]
  },
  {
   "cell_type": "code",
   "execution_count": 34,
   "id": "029c9b1d-317f-4490-a017-d2707342318f",
   "metadata": {},
   "outputs": [
    {
     "ename": "ValueError",
     "evalue": "shapes (2,3) and (2,8) not aligned: 3 (dim 1) != 2 (dim 0)",
     "output_type": "error",
     "traceback": [
      "\u001b[31m---------------------------------------------------------------------------\u001b[39m",
      "\u001b[31mValueError\u001b[39m                                Traceback (most recent call last)",
      "\u001b[36mCell\u001b[39m\u001b[36m \u001b[39m\u001b[32mIn[34]\u001b[39m\u001b[32m, line 1\u001b[39m\n\u001b[32m----> \u001b[39m\u001b[32m1\u001b[39m \u001b[43mmatrix\u001b[49m\u001b[43m.\u001b[49m\u001b[43mdot\u001b[49m\u001b[43m(\u001b[49m\u001b[43mmatrix2\u001b[49m\u001b[43m)\u001b[49m\n",
      "\u001b[31mValueError\u001b[39m: shapes (2,3) and (2,8) not aligned: 3 (dim 1) != 2 (dim 0)"
     ]
    }
   ],
   "source": [
    "matrix.dot(matrix2) # скалярное произведение"
   ]
  },
  {
   "cell_type": "code",
   "execution_count": 56,
   "id": "5cd9fc65-0478-4ef7-9c39-42e0c63c654f",
   "metadata": {},
   "outputs": [
    {
     "data": {
      "text/plain": [
       "array([[0.77336454, 0.50547009, 0.86172991],\n",
       "       [0.82358163, 0.40770404, 0.74650429],\n",
       "       [0.64669168, 0.94320143, 0.21083101]])"
      ]
     },
     "execution_count": 56,
     "metadata": {},
     "output_type": "execute_result"
    }
   ],
   "source": [
    "matrix_axis = np.random.random((3,3))\n",
    "matrix_axis"
   ]
  },
  {
   "cell_type": "code",
   "execution_count": 57,
   "id": "5caf6a70-1040-4c54-931b-d4715a97205b",
   "metadata": {},
   "outputs": [
    {
     "data": {
      "text/plain": [
       "array([0.82358163, 0.94320143, 0.86172991])"
      ]
     },
     "execution_count": 57,
     "metadata": {},
     "output_type": "execute_result"
    }
   ],
   "source": [
    "matrix_axis.max(axis=0)"
   ]
  },
  {
   "cell_type": "code",
   "execution_count": 45,
   "id": "058f1fd0-5a55-4eed-b926-78bef6cd782a",
   "metadata": {},
   "outputs": [
    {
     "data": {
      "text/plain": [
       "array([[0.00495475, 0.83503308, 0.28944929],\n",
       "       [0.07907969, 0.21552178, 0.32938402]])"
      ]
     },
     "execution_count": 45,
     "metadata": {},
     "output_type": "execute_result"
    }
   ],
   "source": [
    "np.delete(matrix_axis,1,axis=0) #axis=0- строки, axis=1- столбцы"
   ]
  },
  {
   "cell_type": "code",
   "execution_count": 52,
   "id": "4766a662-af40-4767-9695-462fdb80f34c",
   "metadata": {},
   "outputs": [
    {
     "ename": "SyntaxError",
     "evalue": "invalid syntax. Maybe you meant '==' or ':=' instead of '='? (908687531.py, line 2)",
     "output_type": "error",
     "traceback": [
      "  \u001b[36mCell\u001b[39m\u001b[36m \u001b[39m\u001b[32mIn[52]\u001b[39m\u001b[32m, line 2\u001b[39m\n\u001b[31m    \u001b[39m\u001b[31mmatrix_simp.max((axis=0))\u001b[39m\n                     ^\n\u001b[31mSyntaxError\u001b[39m\u001b[31m:\u001b[39m invalid syntax. Maybe you meant '==' or ':=' instead of '='?\n"
     ]
    }
   ],
   "source": [
    "matrix_simp = np.arange(9).reshape(3,3)\n",
    "matrix_simp.max(axis=0) # найдет макс значение из каждого столбца"
   ]
  },
  {
   "cell_type": "code",
   "execution_count": 85,
   "id": "4ed22b8f-15ab-404f-8b61-2c1892981acd",
   "metadata": {},
   "outputs": [
    {
     "data": {
      "text/plain": [
       "array([[10,  1,  2,  3],\n",
       "       [ 4,  5,  6,  7],\n",
       "       [ 8,  9, 10, 11],\n",
       "       [12, 13, 14, 15]])"
      ]
     },
     "execution_count": 85,
     "metadata": {},
     "output_type": "execute_result"
    }
   ],
   "source": [
    "matrix_alg = np.arange(16)\n",
    "matrix_alg.resize(4,4)\n",
    "matrix_alg[0,0] = 10\n",
    "matrix_alg\n",
    "#matrix_alg.T # траспонирование\n",
    "\n",
    "#matrix_alg.flatten() # в массив\n",
    "\n",
    "#np.linalg.inv(matrix_alg) # обратная\n",
    "\n",
    "#np.trace(matrix_alg) # след\n"
   ]
  },
  {
   "cell_type": "code",
   "execution_count": 87,
   "id": "b397ccf9-5fa5-4fb3-81ae-f8c9fce0a12f",
   "metadata": {},
   "outputs": [
    {
     "name": "stdout",
     "output_type": "stream",
     "text": [
      "zeros(shape, dtype=float, order='C', *, like=None)\n",
      "\n",
      "Return a new array of given shape and type, filled with zeros.\n",
      "\n",
      "Parameters\n",
      "----------\n",
      "shape : int or tuple of ints\n",
      "    Shape of the new array, e.g., ``(2, 3)`` or ``2``.\n",
      "dtype : data-type, optional\n",
      "    The desired data-type for the array, e.g., `numpy.int8`.  Default is\n",
      "    `numpy.float64`.\n",
      "order : {'C', 'F'}, optional, default: 'C'\n",
      "    Whether to store multi-dimensional data in row-major\n",
      "    (C-style) or column-major (Fortran-style) order in\n",
      "    memory.\n",
      "like : array_like, optional\n",
      "    Reference object to allow the creation of arrays which are not\n",
      "    NumPy arrays. If an array-like passed in as ``like`` supports\n",
      "    the ``__array_function__`` protocol, the result will be defined\n",
      "    by it. In this case, it ensures the creation of an array object\n",
      "    compatible with that passed in via this argument.\n",
      "\n",
      "    .. versionadded:: 1.20.0\n",
      "\n",
      "Returns\n",
      "-------\n",
      "out : ndarray\n",
      "    Array of zeros with the given shape, dtype, and order.\n",
      "\n",
      "See Also\n",
      "--------\n",
      "zeros_like : Return an array of zeros with shape and type of input.\n",
      "empty : Return a new uninitialized array.\n",
      "ones : Return a new array setting values to one.\n",
      "full : Return a new array of given shape filled with value.\n",
      "\n",
      "Examples\n",
      "--------\n",
      ">>> import numpy as np\n",
      ">>> np.zeros(5)\n",
      "array([ 0.,  0.,  0.,  0.,  0.])\n",
      "\n",
      ">>> np.zeros((5,), dtype=int)\n",
      "array([0, 0, 0, 0, 0])\n",
      "\n",
      ">>> np.zeros((2, 1))\n",
      "array([[ 0.],\n",
      "       [ 0.]])\n",
      "\n",
      ">>> s = (2,2)\n",
      ">>> np.zeros(s)\n",
      "array([[ 0.,  0.],\n",
      "       [ 0.,  0.]])\n",
      "\n",
      ">>> np.zeros((2,), dtype=[('x', 'i4'), ('y', 'i4')]) # custom dtype\n",
      "array([(0, 0), (0, 0)],\n",
      "      dtype=[('x', '<i4'), ('y', '<i4')])\n"
     ]
    }
   ],
   "source": [
    "np.info(np.zeros) # справочник"
   ]
  },
  {
   "cell_type": "code",
   "execution_count": null,
   "id": "95af7356-2333-41c0-9250-7b87396d1a4a",
   "metadata": {},
   "outputs": [],
   "source": []
  }
 ],
 "metadata": {
  "kernelspec": {
   "display_name": "myenv",
   "language": "python",
   "name": "myenv"
  },
  "language_info": {
   "codemirror_mode": {
    "name": "ipython",
    "version": 3
   },
   "file_extension": ".py",
   "mimetype": "text/x-python",
   "name": "python",
   "nbconvert_exporter": "python",
   "pygments_lexer": "ipython3",
   "version": "3.13.3"
  }
 },
 "nbformat": 4,
 "nbformat_minor": 5
}
